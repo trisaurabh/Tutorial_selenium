{
 "cells": [
  {
   "cell_type": "markdown",
   "metadata": {},
   "source": [
    "# Scraping from websites that load data on scrolling\n",
    "\n",
    "In this tutorial we want to show how to use selenium to scrape data from websites that are dynamically updated on scrolling. The 'brainyquote.com' is one such website. It has pages with quotes, divided into categories such as love, humor, experience etc., from famous people. Before starting we urge the reader to check out the webpage\n",
    "https://www.brainyquote.com/quotes/topics/topic_experience.html\n",
    "and see how the quotes are loaded on scrolling.\n",
    "\n",
    "What we are going to do is to use selenium to scrape quotes from this page. For this, we need\n",
    "\n",
    "1. Python (I am using python 3.6.1)\n",
    "2. Selenium (install using - pip install selenium)\n",
    "3. Chrome driver (search google for downloading)\n",
    "\n",
    "Let's start:"
   ]
  },
  {
   "cell_type": "code",
   "execution_count": 1,
   "metadata": {
    "collapsed": true
   },
   "outputs": [],
   "source": [
    "# import modules required to scrape the website\n",
    "\n",
    "from selenium import webdriver"
   ]
  },
  {
   "cell_type": "code",
   "execution_count": 2,
   "metadata": {
    "collapsed": true
   },
   "outputs": [],
   "source": [
    "# define url to be scraped\n",
    "\n",
    "url = \"https://www.brainyquote.com/quotes/topics/topic_experience.html\""
   ]
  },
  {
   "cell_type": "code",
   "execution_count": 3,
   "metadata": {
    "collapsed": true
   },
   "outputs": [],
   "source": [
    "# run chrome browser using the chromedriver\n",
    "# suppose the chromedriver is located at /users/mylogin/Downloads/\n",
    "driver = webdriver.Chrome(executable_path='/Users/mylogin/Downloads/chromedriver')\n",
    "\n",
    "# open url on the broser\n",
    "driver.get(url)"
   ]
  },
  {
   "cell_type": "code",
   "execution_count": 4,
   "metadata": {
    "collapsed": true
   },
   "outputs": [],
   "source": [
    "# Scroll the website using selenium\n",
    "# Let's scroll enough number of times in order to reach the bottom of the page, 6000 in our case.\n",
    "\n",
    "for _ in range(0,6000):\n",
    "    driver.execute_script(\"window.scrollBy(0,10000000)\")"
   ]
  },
  {
   "cell_type": "code",
   "execution_count": 5,
   "metadata": {
    "collapsed": true
   },
   "outputs": [],
   "source": [
    "# Scrape data. For this you require some knowledge of how to find elements on a webpage using the html source.\n",
    "\n",
    "x = driver.find_elements_by_xpath('//a[contains(@title, \"view quote\")]')"
   ]
  },
  {
   "cell_type": "code",
   "execution_count": 6,
   "metadata": {},
   "outputs": [
    {
     "name": "stdout",
     "output_type": "stream",
     "text": [
      "0 Some days are just bad days, that's all. You have to experience sadness to know happiness, and I remind myself that not every day is going to be a good day, that's just the way it is!\n",
      "1 You gain strength, courage, and confidence by every experience in which you really stop to look fear in the face. You are able to say to yourself, 'I lived through this horror. I can take the next thing that comes along.'\n",
      "2 I believe that imagination is stronger than knowledge. That myth is more potent than history. That dreams are more powerful than facts. That hope always triumphs over experience. That laughter is the only cure for grief. And I believe that love is stronger than death.\n",
      "3 To be a champion, I think you have to see the big picture. It's not about winning and losing; it's about every day hard work and about thriving on a challenge. It's about embracing the pain that you'll experience at the end of a race and not being afraid. I think people think too hard and get afraid of a certain challenge.\n",
      "4 The only source of knowledge is experience.\n"
     ]
    }
   ],
   "source": [
    "# Let's check if we indeed scraped the quotes by printing the first five.\n",
    "\n",
    "for i in range(0,5):\n",
    "    print(i,x[i].text)"
   ]
  },
  {
   "cell_type": "code",
   "execution_count": 7,
   "metadata": {
    "collapsed": true
   },
   "outputs": [],
   "source": [
    "# close the browser\n",
    "driver.close()"
   ]
  },
  {
   "cell_type": "markdown",
   "metadata": {},
   "source": [
    "# We did it!!!"
   ]
  }
 ],
 "metadata": {
  "kernelspec": {
   "display_name": "Python 3",
   "language": "python",
   "name": "python3"
  },
  "language_info": {
   "codemirror_mode": {
    "name": "ipython",
    "version": 3
   },
   "file_extension": ".py",
   "mimetype": "text/x-python",
   "name": "python",
   "nbconvert_exporter": "python",
   "pygments_lexer": "ipython3",
   "version": "3.6.1"
  }
 },
 "nbformat": 4,
 "nbformat_minor": 2
}
